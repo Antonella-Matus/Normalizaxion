{
  "nbformat": 4,
  "nbformat_minor": 0,
  "metadata": {
    "colab": {
      "provenance": []
    },
    "kernelspec": {
      "name": "python3",
      "display_name": "Python 3"
    },
    "language_info": {
      "name": "python"
    }
  },
  "cells": [
    {
      "cell_type": "code",
      "source": [
        "import requests\n",
        "from urllib.parse import urlparse\n",
        "from urllib.request import urlretrieve\n",
        "from bs4 import BeautifulSoup\n",
        "\n",
        "# URL de la página que contiene los enlaces\n",
        "url = 'https://www.eso.org/sci/facilities/paranal/decommissioned/isaac/tools/lib.html'\n",
        "\n",
        "# Hacer una solicitud a la página\n",
        "response = requests.get(url)\n",
        "soup = BeautifulSoup(response.text, 'html.parser')\n",
        "\n",
        "# Buscar todos los enlaces que contienen archivos .fits\n",
        "for link in soup.find_all('a', href=True):\n",
        "    if link['href'].endswith('.fits'):\n",
        "        file_url = link['href']\n",
        "        file_name = file_url.split('/')[-1]\n",
        "\n",
        "        # Verificar si es un enlace FTP o HTTP\n",
        "        parsed_url = urlparse(file_url)\n",
        "\n",
        "        if parsed_url.scheme == 'ftp':\n",
        "            # Descargar archivos .fits desde FTP con urlretrieve\n",
        "            print(f\"Descargando {file_name} desde FTP...\")\n",
        "            urlretrieve(file_url, file_name)\n",
        "        else:\n",
        "            # Descargar archivos .fits desde HTTP con requests\n",
        "            print(f\"Descargando {file_name} desde HTTP...\")\n",
        "            file_response = requests.get(file_url)\n",
        "            with open(file_name, 'wb') as f:\n",
        "                f.write(file_response.content)\n",
        "        print(f\"{file_name} descargado.\")\n",
        "\n"
      ],
      "metadata": {
        "colab": {
          "base_uri": "https://localhost:8080/"
        },
        "id": "lkSguXAzCmzo",
        "outputId": "aff18b88-5b21-4078-bb05-d950dbb7a5fa"
      },
      "execution_count": 1,
      "outputs": [
        {
          "output_type": "stream",
          "name": "stdout",
          "text": [
            "Descargando uko5v.fits desde FTP...\n",
            "uko5v.fits descargado.\n",
            "Descargando uko8iii.fits desde FTP...\n",
            "uko8iii.fits descargado.\n",
            "Descargando uko9v.fits desde FTP...\n",
            "uko9v.fits descargado.\n",
            "Descargando ukb0i.fits desde FTP...\n",
            "ukb0i.fits descargado.\n",
            "Descargando ukb0v.fits desde FTP...\n",
            "ukb0v.fits descargado.\n",
            "Descargando ukb12iii.fits desde FTP...\n",
            "ukb12iii.fits descargado.\n",
            "Descargando ukb1i.fits desde FTP...\n",
            "ukb1i.fits descargado.\n",
            "Descargando ukb1v.fits desde FTP...\n",
            "ukb1v.fits descargado.\n",
            "Descargando ukb2ii.fits desde FTP...\n",
            "ukb2ii.fits descargado.\n",
            "Descargando ukb2iv.fits desde FTP...\n",
            "ukb2iv.fits descargado.\n",
            "Descargando ukb3i.fits desde FTP...\n",
            "ukb3i.fits descargado.\n",
            "Descargando ukb3iii.fits desde FTP...\n",
            "ukb3iii.fits descargado.\n",
            "Descargando ukb3v.fits desde FTP...\n",
            "ukb3v.fits descargado.\n",
            "Descargando ukb57v.fits desde FTP...\n",
            "ukb57v.fits descargado.\n",
            "Descargando ukb5i.fits desde FTP...\n",
            "ukb5i.fits descargado.\n",
            "Descargando ukb5ii.fits desde FTP...\n",
            "ukb5ii.fits descargado.\n",
            "Descargando ukb5iii.fits desde FTP...\n",
            "ukb5iii.fits descargado.\n",
            "Descargando ukb6iv.fits desde FTP...\n",
            "ukb6iv.fits descargado.\n",
            "Descargando ukb8i.fits desde FTP...\n",
            "ukb8i.fits descargado.\n",
            "Descargando ukb8v.fits desde FTP...\n",
            "ukb8v.fits descargado.\n",
            "Descargando ukb9iii.fits desde FTP...\n",
            "ukb9iii.fits descargado.\n",
            "Descargando ukb9v.fits desde FTP...\n",
            "ukb9v.fits descargado.\n",
            "Descargando uka0i.fits desde FTP...\n",
            "uka0i.fits descargado.\n",
            "Descargando uka0iii.fits desde FTP...\n",
            "uka0iii.fits descargado.\n",
            "Descargando uka0iv.fits desde FTP...\n",
            "uka0iv.fits descargado.\n",
            "Descargando uka0iv_new.fits desde FTP...\n",
            "uka0iv_new.fits descargado.\n",
            "Descargando uka0v.fits desde FTP...\n",
            "uka0v.fits descargado.\n",
            "Descargando uka2i.fits desde FTP...\n",
            "uka2i.fits descargado.\n",
            "Descargando uka2v.fits desde FTP...\n",
            "uka2v.fits descargado.\n",
            "Descargando uka3iii.fits desde FTP...\n",
            "uka3iii.fits descargado.\n",
            "Descargando uka3v.fits desde FTP...\n",
            "uka3v.fits descargado.\n",
            "Descargando uka47iv.fits desde FTP...\n",
            "uka47iv.fits descargado.\n",
            "Descargando uka5iii.fits desde FTP...\n",
            "uka5iii.fits descargado.\n",
            "Descargando uka5v.fits desde FTP...\n",
            "uka5v.fits descargado.\n",
            "Descargando uka7iii.fits desde FTP...\n",
            "uka7iii.fits descargado.\n",
            "Descargando uka7v.fits desde FTP...\n",
            "uka7v.fits descargado.\n",
            "Descargando ukf02iv.fits desde FTP...\n",
            "ukf02iv.fits descargado.\n",
            "Descargando ukf0i.fits desde FTP...\n",
            "ukf0i.fits descargado.\n",
            "Descargando ukf0ii.fits desde FTP...\n",
            "ukf0ii.fits descargado.\n",
            "Descargando ukf0iii.fits desde FTP...\n",
            "ukf0iii.fits descargado.\n",
            "Descargando ukf0v.fits desde FTP...\n",
            "ukf0v.fits descargado.\n",
            "Descargando ukf2ii.fits desde FTP...\n",
            "ukf2ii.fits descargado.\n",
            "Descargando ukf2iii.fits desde FTP...\n",
            "ukf2iii.fits descargado.\n",
            "Descargando ukf2v.fits desde FTP...\n",
            "ukf2v.fits descargado.\n",
            "Descargando ukf5i.fits desde FTP...\n",
            "ukf5i.fits descargado.\n",
            "Descargando ukf5iii.fits desde FTP...\n",
            "ukf5iii.fits descargado.\n",
            "Descargando ukf5iv.fits desde FTP...\n",
            "ukf5iv.fits descargado.\n",
            "Descargando ukf5v.fits desde FTP...\n",
            "ukf5v.fits descargado.\n",
            "Descargando ukf6v.fits desde FTP...\n",
            "ukf6v.fits descargado.\n",
            "Descargando ukf8i.fits desde FTP...\n",
            "ukf8i.fits descargado.\n",
            "Descargando ukf8iv.fits desde FTP...\n",
            "ukf8iv.fits descargado.\n",
            "Descargando ukf8v.fits desde FTP...\n",
            "ukf8v.fits descargado.\n",
            "Descargando ukrf6v.fits desde FTP...\n",
            "ukrf6v.fits descargado.\n",
            "Descargando ukrf8v.fits desde FTP...\n",
            "ukrf8v.fits descargado.\n",
            "Descargando ukwf5v.fits desde FTP...\n",
            "ukwf5v.fits descargado.\n",
            "Descargando ukwf8v.fits desde FTP...\n",
            "ukwf8v.fits descargado.\n",
            "Descargando ukg0i.fits desde FTP...\n",
            "ukg0i.fits descargado.\n",
            "Descargando ukg0iii.fits desde FTP...\n",
            "ukg0iii.fits descargado.\n",
            "Descargando ukg0iv.fits desde FTP...\n",
            "ukg0iv.fits descargado.\n",
            "Descargando ukg0iv_new.fits desde FTP...\n",
            "ukg0iv_new.fits descargado.\n",
            "Descargando ukg0v.fits desde FTP...\n",
            "ukg0v.fits descargado.\n",
            "Descargando ukg2i.fits desde FTP...\n",
            "ukg2i.fits descargado.\n",
            "Descargando ukg2iv.fits desde FTP...\n",
            "ukg2iv.fits descargado.\n",
            "Descargando ukg2iv_new.fits desde FTP...\n",
            "ukg2iv_new.fits descargado.\n",
            "Descargando ukg2v.fits desde FTP...\n",
            "ukg2v.fits descargado.\n",
            "Descargando ukg5i.fits desde FTP...\n",
            "ukg5i.fits descargado.\n",
            "Descargando ukg5ii.fits desde FTP...\n",
            "ukg5ii.fits descargado.\n",
            "Descargando ukg5iii.fits desde FTP...\n",
            "ukg5iii.fits descargado.\n",
            "Descargando ukg5iv.fits desde FTP...\n",
            "ukg5iv.fits descargado.\n",
            "Descargando ukg5iv_new.fits desde FTP...\n",
            "ukg5iv_new.fits descargado.\n",
            "Descargando ukg5v.fits desde FTP...\n",
            "ukg5v.fits descargado.\n",
            "Descargando ukg8i.fits desde FTP...\n",
            "ukg8i.fits descargado.\n",
            "Descargando ukg8iii.fits desde FTP...\n",
            "ukg8iii.fits descargado.\n",
            "Descargando ukg8iv.fits desde FTP...\n",
            "ukg8iv.fits descargado.\n",
            "Descargando ukg8v.fits desde FTP...\n",
            "ukg8v.fits descargado.\n",
            "Descargando ukrg0v.fits desde FTP...\n",
            "ukrg0v.fits descargado.\n",
            "Descargando ukrg5iii.fits desde FTP...\n",
            "ukrg5iii.fits descargado.\n",
            "Descargando ukrg5v.fits desde FTP...\n",
            "ukrg5v.fits descargado.\n",
            "Descargando ukwg0v.fits desde FTP...\n",
            "ukwg0v.fits descargado.\n",
            "Descargando ukwg0v_new.fits desde FTP...\n",
            "ukwg0v_new.fits descargado.\n",
            "Descargando ukwg5iii.fits desde FTP...\n",
            "ukwg5iii.fits descargado.\n",
            "Descargando ukwg5v.fits desde FTP...\n",
            "ukwg5v.fits descargado.\n",
            "Descargando ukwg8iii.fits desde FTP...\n",
            "ukwg8iii.fits descargado.\n",
            "Descargando ukwg8iii_new.fits desde FTP...\n",
            "ukwg8iii_new.fits descargado.\n",
            "Descargando ukk01ii.fits desde FTP...\n",
            "ukk01ii.fits descargado.\n",
            "Descargando ukk0iii.fits desde FTP...\n",
            "ukk0iii.fits descargado.\n",
            "Descargando ukk0iv.fits desde FTP...\n",
            "ukk0iv.fits descargado.\n",
            "Descargando ukk0iv_new.fits desde FTP...\n",
            "ukk0iv_new.fits descargado.\n",
            "Descargando ukk0v.fits desde FTP...\n",
            "ukk0v.fits descargado.\n",
            "Descargando ukk1iii.fits desde FTP...\n",
            "ukk1iii.fits descargado.\n",
            "Descargando ukk1iv.fits desde FTP...\n",
            "ukk1iv.fits descargado.\n",
            "Descargando ukk1iv_new.fits desde FTP...\n",
            "ukk1iv_new.fits descargado.\n",
            "Descargando ukk2i.fits desde FTP...\n",
            "ukk2i.fits descargado.\n",
            "Descargando ukk2iii.fits desde FTP...\n",
            "ukk2iii.fits descargado.\n",
            "Descargando ukk2v.fits desde FTP...\n",
            "ukk2v.fits descargado.\n",
            "Descargando ukk34ii.fits desde FTP...\n",
            "ukk34ii.fits descargado.\n",
            "Descargando ukk3i.fits desde FTP...\n",
            "ukk3i.fits descargado.\n",
            "Descargando ukk3iii.fits desde FTP...\n",
            "ukk3iii.fits descargado.\n",
            "Descargando ukk3iv.fits desde FTP...\n",
            "ukk3iv.fits descargado.\n",
            "Descargando ukk3v.fits desde FTP...\n",
            "ukk3v.fits descargado.\n",
            "Descargando ukk4i.fits desde FTP...\n",
            "ukk4i.fits descargado.\n",
            "Descargando ukk4iii.fits desde FTP...\n",
            "ukk4iii.fits descargado.\n",
            "Descargando ukk4v.fits desde FTP...\n",
            "ukk4v.fits descargado.\n",
            "Descargando ukk4v_new.fits desde FTP...\n",
            "ukk4v_new.fits descargado.\n",
            "Descargando ukk5iii.fits desde FTP...\n",
            "ukk5iii.fits descargado.\n",
            "Descargando ukk5v.fits desde FTP...\n",
            "ukk5v.fits descargado.\n",
            "Descargando ukk7v.fits desde FTP...\n",
            "ukk7v.fits descargado.\n",
            "Descargando ukrk0iii.fits desde FTP...\n",
            "ukrk0iii.fits descargado.\n",
            "Descargando ukrk0iii_new.fits desde FTP...\n",
            "ukrk0iii_new.fits descargado.\n",
            "Descargando ukrk0v.fits desde FTP...\n",
            "ukrk0v.fits descargado.\n",
            "Descargando ukrk1iii.fits desde FTP...\n",
            "ukrk1iii.fits descargado.\n",
            "Descargando ukrk1iii_new.fits desde FTP...\n",
            "ukrk1iii_new.fits descargado.\n",
            "Descargando ukrk2iii.fits desde FTP...\n",
            "ukrk2iii.fits descargado.\n",
            "Descargando ukrk2iii_new.fits desde FTP...\n",
            "ukrk2iii_new.fits descargado.\n",
            "Descargando ukrk3iii.fits desde FTP...\n",
            "ukrk3iii.fits descargado.\n",
            "Descargando ukrk3iii_new.fits desde FTP...\n",
            "ukrk3iii_new.fits descargado.\n",
            "Descargando ukrk4iii.fits desde FTP...\n",
            "ukrk4iii.fits descargado.\n",
            "Descargando ukrk4iii_new.fits desde FTP...\n",
            "ukrk4iii_new.fits descargado.\n",
            "Descargando ukrk5iii.fits desde FTP...\n",
            "ukrk5iii.fits descargado.\n",
            "Descargando ukwk0iii.fits desde FTP...\n",
            "ukwk0iii.fits descargado.\n",
            "Descargando ukwk1iii.fits desde FTP...\n",
            "ukwk1iii.fits descargado.\n",
            "Descargando ukwk1iii_new.fits desde FTP...\n",
            "ukwk1iii_new.fits descargado.\n",
            "Descargando ukwk2iii.fits desde FTP...\n",
            "ukwk2iii.fits descargado.\n",
            "Descargando ukwk2iii_new.fits desde FTP...\n",
            "ukwk2iii_new.fits descargado.\n",
            "Descargando ukwk3iii.fits desde FTP...\n",
            "ukwk3iii.fits descargado.\n",
            "Descargando ukwk3iii_new.fits desde FTP...\n",
            "ukwk3iii_new.fits descargado.\n",
            "Descargando ukwk4iii.fits desde FTP...\n",
            "ukwk4iii.fits descargado.\n",
            "Descargando ukm0iii.fits desde FTP...\n",
            "ukm0iii.fits descargado.\n",
            "Descargando ukm0v.fits desde FTP...\n",
            "ukm0v.fits descargado.\n",
            "Descargando ukm10iii.fits desde FTP...\n",
            "ukm10iii.fits descargado.\n",
            "Descargando ukm1iii.fits desde FTP...\n",
            "ukm1iii.fits descargado.\n",
            "Descargando ukm1v.fits desde FTP...\n",
            "ukm1v.fits descargado.\n",
            "Descargando ukm2.5v.fits desde FTP...\n",
            "ukm2.5v.fits descargado.\n",
            "Descargando ukm2i.fits desde FTP...\n",
            "ukm2i.fits descargado.\n",
            "Descargando ukm2iii.fits desde FTP...\n",
            "ukm2iii.fits descargado.\n",
            "Descargando ukm2v.fits desde FTP...\n",
            "ukm2v.fits descargado.\n",
            "Descargando ukm3ii.fits desde FTP...\n",
            "ukm3ii.fits descargado.\n",
            "Descargando ukm3iii.fits desde FTP...\n",
            "ukm3iii.fits descargado.\n",
            "Descargando ukm3v.fits desde FTP...\n",
            "ukm3v.fits descargado.\n",
            "Descargando ukm4iii.fits desde FTP...\n",
            "ukm4iii.fits descargado.\n",
            "Descargando ukm4v.fits desde FTP...\n",
            "ukm4v.fits descargado.\n",
            "Descargando ukm4v_new.fits desde FTP...\n",
            "ukm4v_new.fits descargado.\n",
            "Descargando ukm5iii.fits desde FTP...\n",
            "ukm5iii.fits descargado.\n",
            "Descargando ukm5v.fits desde FTP...\n",
            "ukm5v.fits descargado.\n",
            "Descargando ukm6iii.fits desde FTP...\n",
            "ukm6iii.fits descargado.\n",
            "Descargando ukm6v.fits desde FTP...\n",
            "ukm6v.fits descargado.\n",
            "Descargando ukm7iii.fits desde FTP...\n",
            "ukm7iii.fits descargado.\n",
            "Descargando ukm8iii.fits desde FTP...\n",
            "ukm8iii.fits descargado.\n",
            "Descargando ukm9iii.fits desde FTP...\n",
            "ukm9iii.fits descargado.\n"
          ]
        }
      ]
    },
    {
      "cell_type": "code",
      "source": [
        "import astropy.io.fits as F\n",
        "\n",
        "cubo = F.open(\"/content/uko5v.fits\")\n",
        "\n",
        "cubo[0].header"
      ],
      "metadata": {
        "id": "p7LU6gQ4sua0",
        "outputId": "89575763-7f06-4418-abb0-b17a179bb437",
        "colab": {
          "base_uri": "https://localhost:8080/"
        }
      },
      "execution_count": 24,
      "outputs": [
        {
          "output_type": "execute_result",
          "data": {
            "text/plain": [
              "SIMPLE  =                    T / Fits standard                                  \n",
              "BITPIX  =                  -32 / Bits per pixel                                 \n",
              "NAXIS   =                    1 / Number of axes                                 \n",
              "NAXIS1  =                 4771 / Axis length                                    \n",
              "ORIGIN  = 'NOAO-IRAF FITS Image Kernel July 1999' / FITS file originator        \n",
              "EXTEND  =                    F / File may contain extensions                    \n",
              "DATE    = '2000-02-16T18:17:18' / Date FITS file was generated                  \n",
              "IRAF-TLM= '15:17:17 (16/02/2000)' / Time of last modification                   \n",
              "APNUM1  = '1 1     '                                                            \n",
              "WCSDIM  =                    1                                                  \n",
              "CTYPE1  = 'LINEAR  '                                                            \n",
              "CRVAL1  =                1150.                                                  \n",
              "CRPIX1  =                   1.                                                  \n",
              "CDELT1  =                   5.                                                  \n",
              "CD1_1   =                   5.                                                  \n",
              "LTM1_1  =                   1.                                                  \n",
              "WAT0_001= 'system=equispec'                                                     \n",
              "WAT1_001= 'wtype=linear'                                                        \n",
              "DC-FLAG =                    0                                                  \n",
              "                                                                                \n",
              "                                                                                \n",
              "                                                                                \n",
              "                                                                                \n",
              "                                                                                \n",
              "                                                                                \n",
              "                                                                                \n",
              "                                                                                \n",
              "                                                                                \n",
              "                                                                                \n",
              "                                                                                \n",
              "                                                                                \n",
              "                                                                                \n",
              "                                                                                \n",
              "                                                                                \n",
              "                                                                                "
            ]
          },
          "metadata": {},
          "execution_count": 24
        }
      ]
    },
    {
      "cell_type": "code",
      "source": [
        "A = cubo[0].data\n",
        "plt.plot(A)"
      ],
      "metadata": {
        "id": "DHJTaqbZ0wXW",
        "outputId": "563ec1cb-a56e-4426-ba4a-b47f4cb7e3ef",
        "colab": {
          "base_uri": "https://localhost:8080/",
          "height": 447
        }
      },
      "execution_count": 29,
      "outputs": [
        {
          "output_type": "execute_result",
          "data": {
            "text/plain": [
              "[<matplotlib.lines.Line2D at 0x7c4a2ac51000>]"
            ]
          },
          "metadata": {},
          "execution_count": 29
        },
        {
          "output_type": "display_data",
          "data": {
            "text/plain": [
              "<Figure size 640x480 with 1 Axes>"
            ],
            "image/png": "[encoded data removed]"
          },
          "metadata": {}
        }
      ]
    },
    {
      "cell_type": "code",
      "source": [
        "from urllib.request import urlretrieve\n",
        "\n",
        "# URL del archivo que deseas descargar\n",
        "file_url = 'ftp://ftp.eso.org/web/sci/facilities/paranal/instruments/isaac/tools/lib/uko5v.dat.gz'\n",
        "\n",
        "# Nombre del archivo que será guardado localmente\n",
        "file_name = file_url.split('/')[-1]\n",
        "\n",
        "# Descargar el archivo\n",
        "print(f\"Descargando {file_name}...\")\n",
        "urlretrieve(file_url, file_name)\n",
        "print(f\"{file_name} descargado.\")"
      ],
      "metadata": {
        "id": "f_UipSciuvHM",
        "outputId": "3ddb46ad-f5b1-4b3c-9096-5cdcdd481314",
        "colab": {
          "base_uri": "https://localhost:8080/"
        }
      },
      "execution_count": 4,
      "outputs": [
        {
          "output_type": "stream",
          "name": "stdout",
          "text": [
            "Descargando uko5v.dat.gz...\n",
            "uko5v.dat.gz descargado.\n"
          ]
        }
      ]
    },
    {
      "cell_type": "code",
      "source": [
        "from astropy.table import Table\n",
        "\n",
        "def reader(PATH, ft='ascii'):\n",
        "    '''\n",
        "    Inputs:\n",
        "    - PATH: Path del espectro\n",
        "    - ft: formato del espectro\n",
        "    '''\n",
        "    tab = Table.read(PATH, format=ft)\n",
        "    df_spectra = tab.to_pandas()\n",
        "    # df_spectra = df_spectra[df_spectra['col1']<10050]\n",
        "    # df_spectra = df_spectra[df_spectra['col1']>1950]\n",
        "\n",
        "    if ft == 'ascii':\n",
        "        np_sp = df_spectra.to_numpy()\n",
        "\n",
        "    return np_sp"
      ],
      "metadata": {
        "id": "p6UkNsxivuY2"
      },
      "execution_count": 32,
      "outputs": []
    },
    {
      "cell_type": "code",
      "source": [
        "path_spectra = '/content/uko5v.dat.gz'\n",
        "spectra = reader(path_spectra)\n",
        "spectra.shape\n"
      ],
      "metadata": {
        "id": "k4c47QWXww-b",
        "outputId": "9be2149c-7b50-465b-f923-ce8a2f296593",
        "colab": {
          "base_uri": "https://localhost:8080/"
        }
      },
      "execution_count": 33,
      "outputs": [
        {
          "output_type": "execute_result",
          "data": {
            "text/plain": [
              "(4771, 6)"
            ]
          },
          "metadata": {},
          "execution_count": 33
        }
      ]
    },
    {
      "cell_type": "code",
      "source": [
        "import matplotlib.pyplot as plt\n",
        "import numpy as np\n",
        "\n",
        "\n",
        "plt.plot(spectra[:,0], spectra[:,1], color= \"red\")\n",
        "\n",
        "plt.plot(spectra[:,0], spectra[:,2], color = \"blue\")\n",
        "\n",
        "\n",
        "\n",
        "\n",
        "\n",
        "\n",
        "\n"
      ],
      "metadata": {
        "id": "6WE7se9dyL26",
        "outputId": "a106b116-51eb-4a80-e87e-857a3f5dad2f",
        "colab": {
          "base_uri": "https://localhost:8080/",
          "height": 447
        }
      },
      "execution_count": 40,
      "outputs": [
        {
          "output_type": "execute_result",
          "data": {
            "text/plain": [
              "[<matplotlib.lines.Line2D at 0x7c4a2a9921d0>]"
            ]
          },
          "metadata": {},
          "execution_count": 40
        },
        {
          "output_type": "display_data",
          "data": {
            "text/plain": [
              "<Figure size 640x480 with 1 Axes>"
            ],
            "image/png": "[encoded data removed]"
          },
          "metadata": {}
        }
      ]
    },
    {
      "cell_type": "code",
      "source": [
        "plt.plot(spectra[:,0], spectra[:,1], color= \"red\")\n",
        "plt.plot(spectra[:,0], spectra[:,3],color = \"green\", alpha = 0.5)"
      ],
      "metadata": {
        "id": "D2-SsgK78u9S",
        "outputId": "1f111034-1790-4cab-afc4-95f36d460b40",
        "colab": {
          "base_uri": "https://localhost:8080/",
          "height": 447
        }
      },
      "execution_count": 48,
      "outputs": [
        {
          "output_type": "execute_result",
          "data": {
            "text/plain": [
              "[<matplotlib.lines.Line2D at 0x7c4a27d98700>]"
            ]
          },
          "metadata": {},
          "execution_count": 48
        },
        {
          "output_type": "display_data",
          "data": {
            "text/plain": [
              "<Figure size 640x480 with 1 Axes>"
            ],
            "image/png": "[encoded data removed]"
          },
          "metadata": {}
        }
      ]
    },
    {
      "cell_type": "code",
      "source": [
        "#plt.plot(spectra[:,0], spectra[:,3],color = \"green\")\n",
        "\n",
        "plt.plot(spectra[:,0], spectra[:,4], color = \"orange\")\n",
        "\n",
        "plt.plot(spectra[:,0], spectra[:,5], color = \"magenta\")"
      ],
      "metadata": {
        "id": "Dti5kZYO0X5x",
        "outputId": "6562093b-6130-4c67-bfea-46ff31591bd8",
        "colab": {
          "base_uri": "https://localhost:8080/",
          "height": 447
        }
      },
      "execution_count": 44,
      "outputs": [
        {
          "output_type": "execute_result",
          "data": {
            "text/plain": [
              "[<matplotlib.lines.Line2D at 0x7c4a2aab55d0>]"
            ]
          },
          "metadata": {},
          "execution_count": 44
        },
        {
          "output_type": "display_data",
          "data": {
            "text/plain": [
              "<Figure size 640x480 with 1 Axes>"
            ],
            "image/png": "[encoded data removed]"
          },
          "metadata": {}
        }
      ]
    }
  ]
}